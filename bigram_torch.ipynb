{
 "cells": [
  {
   "cell_type": "markdown",
   "metadata": {},
   "source": [
    "# Importing the required dependencies"
   ]
  },
  {
   "cell_type": "code",
   "execution_count": 408,
   "metadata": {},
   "outputs": [],
   "source": [
    "import torch\n",
    "from torch import nn\n",
    "from torch import optim\n",
    "import torch.nn.functional as F\n",
    "torch.manual_seed(1337)\n",
    "\n",
    "from matplotlib import pyplot as plt"
   ]
  },
  {
   "cell_type": "markdown",
   "metadata": {},
   "source": [
    "# Device configuration"
   ]
  },
  {
   "cell_type": "code",
   "execution_count": null,
   "metadata": {},
   "outputs": [],
   "source": [
    "device = 'cuda' if torch.cuda.is_available() else 'cpu'\n",
    "if device == 'cuda':\n",
    "    print('GPU:', torch.cuda.get_device_properties(0).name)\n",
    "else:\n",
    "    print(\"CPU\")"
   ]
  },
  {
   "cell_type": "markdown",
   "metadata": {},
   "source": [
    "# Loading dataset"
   ]
  },
  {
   "cell_type": "code",
   "execution_count": 381,
   "metadata": {},
   "outputs": [],
   "source": [
    "with open(\"./tinyShakesphere.txt\", \"r\", encoding=\"utf-8\") as file:\n",
    "    text = file.read()"
   ]
  },
  {
   "cell_type": "markdown",
   "metadata": {},
   "source": [
    "# Creating Vocabulary"
   ]
  },
  {
   "cell_type": "code",
   "execution_count": 382,
   "metadata": {},
   "outputs": [
    {
     "name": "stdout",
     "output_type": "stream",
     "text": [
      "\n",
      " !$&',-.3:;?ABCDEFGHIJKLMNOPQRSTUVWXYZabcdefghijklmnopqrstuvwxyz\n",
      "65\n"
     ]
    }
   ],
   "source": [
    "chars = sorted(set(text))\n",
    "vocab_size = len(chars) \n",
    "print(''.join(chars))\n",
    "print(len(chars))"
   ]
  },
  {
   "cell_type": "code",
   "execution_count": 383,
   "metadata": {},
   "outputs": [],
   "source": [
    "stoi = {ch:i for i,ch in enumerate(chars)}\n",
    "itos = {i:ch for i,ch in enumerate(chars)}\n",
    "encode = lambda s: [stoi[c] for c in s]\n",
    "decode = lambda l: ''.join([itos[i] for i in l])"
   ]
  },
  {
   "cell_type": "markdown",
   "metadata": {},
   "source": [
    "# Encoding Dataset and Train, Test Split"
   ]
  },
  {
   "cell_type": "code",
   "execution_count": 384,
   "metadata": {},
   "outputs": [],
   "source": [
    "encoded_text = torch.tensor(encode(text), dtype=torch.long)"
   ]
  },
  {
   "cell_type": "code",
   "execution_count": 385,
   "metadata": {},
   "outputs": [
    {
     "data": {
      "text/plain": [
       "tensor([18, 47, 56,  ..., 52, 45,  8])"
      ]
     },
     "execution_count": 385,
     "metadata": {},
     "output_type": "execute_result"
    }
   ],
   "source": [
    "encoded_text"
   ]
  },
  {
   "cell_type": "code",
   "execution_count": 386,
   "metadata": {},
   "outputs": [],
   "source": [
    "train_size = 0.9\n",
    "\n",
    "train_data = encoded_text[:int(train_size*len(encoded_text))]\n",
    "val_data = encoded_text[int(train_size*len(encoded_text)):]"
   ]
  },
  {
   "cell_type": "markdown",
   "metadata": {},
   "source": [
    "# Modeling"
   ]
  },
  {
   "cell_type": "code",
   "execution_count": 387,
   "metadata": {},
   "outputs": [],
   "source": [
    "block_size = 8\n",
    "batch_size = 4\n",
    "def get_batch(split):\n",
    "    data = train_data if split == 'train' else val_data\n",
    "    ix = torch.randint(len(data) - block_size, (batch_size,))\n",
    "    x = torch.stack([data[i:i+block_size] for i in ix])\n",
    "    y = torch.stack([data[i+1:i+block_size+1] for i in ix])\n",
    "    return x.to(device), y.to(device)"
   ]
  },
  {
   "cell_type": "code",
   "execution_count": 388,
   "metadata": {},
   "outputs": [],
   "source": [
    "class BigramLanguageModel(nn.Module):\n",
    "    def __init__(self, vocab_size, device='cpu'):\n",
    "        super().__init__()\n",
    "        self.token_embedding_table = nn.Embedding(vocab_size, vocab_size)\n",
    "        self.device = device\n",
    "    \n",
    "    def forward(self, idx, targets=None):\n",
    "        idx = idx\n",
    "        if targets is not None:\n",
    "            targets = targets\n",
    "        logits = self.token_embedding_table(idx) # (B,T,C) B-> 4(batch_size),T-> 8(block_size),C-> 65(vocab_size)\n",
    "        if targets is None:\n",
    "            loss = None\n",
    "        else: \n",
    "            B, T, C =  logits.shape\n",
    "            logits = logits.view(B*T,C)\n",
    "            targets = targets.view(B*T)\n",
    "            loss = F.cross_entropy(logits, targets)\n",
    "        return logits, loss\n",
    "    \n",
    "    def generate(self, idx, max_new_tokens):\n",
    "        for _ in range(max_new_tokens):\n",
    "            logits, loss = self(idx)\n",
    "            logits = logits[:,-1,:] # (B, C)\n",
    "            probs = F.softmax(logits, dim=1) # (B, C)\n",
    "            idx_next = torch.multinomial(probs,num_samples=1) # (B, 1)\n",
    "            idx = torch.cat((idx, idx_next), dim=1) # (B, T+1)\n",
    "        return idx\n",
    " "
   ]
  },
  {
   "cell_type": "markdown",
   "metadata": {},
   "source": [
    "# Model init and sampling before training "
   ]
  },
  {
   "cell_type": "code",
   "execution_count": 402,
   "metadata": {},
   "outputs": [],
   "source": [
    "bigram = BigramLanguageModel(vocab_size).to(device)"
   ]
  },
  {
   "cell_type": "code",
   "execution_count": 403,
   "metadata": {},
   "outputs": [
    {
     "name": "stdout",
     "output_type": "stream",
     "text": [
      "\n",
      "I'ZI!!TawjYD$NaZ\n",
      "u;Ihsj\n",
      ":JstoUYr3,K,'diPlT\n",
      "RWBTQQslSdlXkihT$dloN-.o;nt\n",
      "'ZTM;sC$-TiwcX-eyXtR,Uu!!-sCW\n"
     ]
    }
   ],
   "source": [
    "print(decode(bigram.generate(torch.tensor([[0]], dtype=torch.long,device=device), max_new_tokens=100)[0].tolist()))"
   ]
  },
  {
   "cell_type": "markdown",
   "metadata": {},
   "source": [
    "# Optimizer init and training the model"
   ]
  },
  {
   "cell_type": "code",
   "execution_count": 404,
   "metadata": {},
   "outputs": [],
   "source": [
    "optimizer = optim.AdamW(bigram.parameters(), lr=1e-3)"
   ]
  },
  {
   "cell_type": "code",
   "execution_count": 405,
   "metadata": {},
   "outputs": [],
   "source": [
    "@torch.no_grad()\n",
    "def estimate_loss(model, eval_iters):\n",
    "    out = {}\n",
    "    model.eval()\n",
    "    for split in ['train', 'val']:\n",
    "        losses = torch.zeros(eval_iters)\n",
    "        for k in range(eval_iters):\n",
    "            x,y = get_batch(split)\n",
    "            logits, loss = model(x,y)\n",
    "            losses[k] = loss.item()\n",
    "        out[split] = losses.mean()\n",
    "    model.train()\n",
    "    return out"
   ]
  },
  {
   "cell_type": "code",
   "execution_count": 406,
   "metadata": {},
   "outputs": [],
   "source": [
    "train_loss = []\n",
    "val_loss = []\n",
    "step = []"
   ]
  },
  {
   "cell_type": "code",
   "execution_count": 414,
   "metadata": {},
   "outputs": [
    {
     "name": "stdout",
     "output_type": "stream",
     "text": [
      "step 0: train loss 2.6257, test loss 2.4354\n"
     ]
    },
    {
     "name": "stdout",
     "output_type": "stream",
     "text": [
      "step 200: train loss 2.6037, test loss 2.4381\n",
      "step 400: train loss 2.6116, test loss 2.4269\n",
      "step 600: train loss 2.6084, test loss 2.4258\n",
      "step 800: train loss 2.6042, test loss 2.4184\n",
      "step 1000: train loss 2.5983, test loss 2.4103\n",
      "step 1200: train loss 2.5982, test loss 2.4064\n",
      "step 1400: train loss 2.5913, test loss 2.4207\n",
      "step 1600: train loss 2.6033, test loss 2.4102\n",
      "step 1800: train loss 2.6056, test loss 2.4074\n",
      "step 2000: train loss 2.5884, test loss 2.4012\n",
      "step 2200: train loss 2.5806, test loss 2.3927\n",
      "step 2400: train loss 2.5983, test loss 2.3948\n",
      "step 2600: train loss 2.5946, test loss 2.3961\n",
      "step 2800: train loss 2.5965, test loss 2.3896\n",
      "step 3000: train loss 2.5986, test loss 2.3910\n",
      "step 3200: train loss 2.5927, test loss 2.3866\n",
      "step 3400: train loss 2.5908, test loss 2.3881\n",
      "step 3600: train loss 2.6018, test loss 2.3842\n",
      "step 3800: train loss 2.5966, test loss 2.3948\n",
      "step 4000: train loss 2.6077, test loss 2.3870\n",
      "step 4200: train loss 2.5963, test loss 2.3817\n",
      "step 4400: train loss 2.6004, test loss 2.3953\n",
      "step 4600: train loss 2.5989, test loss 2.3904\n",
      "step 4800: train loss 2.6127, test loss 2.3782\n",
      "2.373303174972534\n"
     ]
    }
   ],
   "source": [
    "batch_size = 32\n",
    "eval_iters = 200\n",
    "for steps in range(5000):\n",
    "    if steps % eval_iters == 0:\n",
    "        losses = estimate_loss(bigram, eval_iters)\n",
    "        print(f'step {steps}: train loss {losses['train']:.4f}, test loss {losses['val']:.4f}')\n",
    "        train_loss.append(losses['train'])\n",
    "        val_loss.append(losses['val'])\n",
    "        step.append(step[-1] + eval_iters if step else eval_iters)\n",
    "    xb, yb = get_batch(train_data)\n",
    "    logits, loss = bigram(xb, yb)\n",
    "    optimizer.zero_grad(set_to_none=True)\n",
    "    loss.backward()\n",
    "    optimizer.step()\n",
    "print(loss.item())"
   ]
  },
  {
   "cell_type": "code",
   "execution_count": 415,
   "metadata": {},
   "outputs": [
    {
     "data": {
      "image/png": "[encoded data removed]",
      "text/plain": [
       "<Figure size 640x480 with 1 Axes>"
      ]
     },
     "metadata": {},
     "output_type": "display_data"
    }
   ],
   "source": [
    "plt.plot(step, train_loss, label='Train Loss')\n",
    "plt.plot(step, val_loss, label='Test Loss')\n",
    "plt.xlabel('Steps')\n",
    "plt.ylabel('Loss')\n",
    "plt.legend()\n",
    "plt.show()"
   ]
  },
  {
   "cell_type": "markdown",
   "metadata": {},
   "source": [
    "# Sampling from the trained model"
   ]
  },
  {
   "cell_type": "code",
   "execution_count": 417,
   "metadata": {},
   "outputs": [
    {
     "name": "stdout",
     "output_type": "stream",
     "text": [
      "\n",
      "Whwice my.\n",
      "\n",
      "HDETarom orou waowhthetof isth bot mil ndill, ath iree s, hein lat Heridrovets, and Win nghir.\n",
      "Pranousel lind me l.\n",
      "HA:\n",
      "THonchiry:\n",
      "ARO: aisspllw y.\n",
      "HI BI's noroopetelaves\n",
      "MIO:\n",
      "PERThe te akleo Windo whth eribyo wie m dourive ce hidend t so KANDENTre\n",
      "\n",
      "ANZAndnterupt f s ar iris! m:\n",
      "\n",
      "Thiny aleronth, af PENTh KASo myoungoube!\n",
      "Kated isar adat Wices ghesthidin cour ay aney IO:\n",
      "\n",
      "\n",
      "\n",
      "IOfr y ce.\n",
      "O:\n",
      "TETher, bemary.\n",
      "Yor 'sou wne?\n",
      "Isora anghy t-e?\n",
      "ANTORUCowien.\n",
      "Wand s st su in s th llugibome.\n",
      "IOSuco ffepyotssthecas l.\n",
      "TAn.\n",
      "Mourethapeintherse ed PTAPRTHalvet:\n",
      "HIApasst toros cok hedin tie st u d he te feRUCates:\n",
      "Whit Clo ghasundisthou idu IONo, moxchar.\n",
      "\n",
      "Anthataker aghercobun wsam s s withoumas mond t s wlld IRO:\n",
      "\n",
      "I andorsed\n",
      "Fourd?\n",
      "TIO:\n",
      "\n",
      "\n",
      "MIO:\n",
      "&Xno nded Cattey\n",
      "Kavethatou tised tho nofen e sutan wiporthare whanothavittheruglepe Bllellke, oung h O, t pan, ce wat d tive wout ir f; u;\n",
      "\n",
      "ANIONSioueee rtano iru fo.\n",
      "\n",
      "Find fet HInk;\n",
      "CUCad n tck in, d cer t ftanofallon bay ho shergallen, meswe minds \n"
     ]
    }
   ],
   "source": [
    "print(decode(bigram.generate(torch.tensor([[0]], dtype=torch.long,device=device), max_new_tokens=1000)[0].tolist()))"
   ]
  },
  {
   "cell_type": "code",
   "execution_count": null,
   "metadata": {},
   "outputs": [],
   "source": []
  }
 ],
 "metadata": {
  "kernelspec": {
   "display_name": "Python 3",
   "language": "python",
   "name": "python3"
  },
  "language_info": {
   "codemirror_mode": {
    "name": "ipython",
    "version": 3
   },
   "file_extension": ".py",
   "mimetype": "text/x-python",
   "name": "python",
   "nbconvert_exporter": "python",
   "pygments_lexer": "ipython3",
   "version": "3.12.2"
  }
 },
 "nbformat": 4,
 "nbformat_minor": 2
}
