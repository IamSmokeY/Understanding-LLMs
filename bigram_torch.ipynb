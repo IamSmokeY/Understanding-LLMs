{
 "cells": [
  {
   "cell_type": "markdown",
   "metadata": {},
   "source": [
    "# Importing the required dependencies"
   ]
  },
  {
   "cell_type": "code",
   "execution_count": 1,
   "metadata": {},
   "outputs": [],
   "source": [
    "import torch\n",
    "from torch import nn\n",
    "from torch import optim\n",
    "import torch.nn.functional as F\n",
    "torch.manual_seed(1337)\n",
    "\n",
    "from matplotlib import pyplot as plt"
   ]
  },
  {
   "cell_type": "markdown",
   "metadata": {},
   "source": [
    "# Device configuration"
   ]
  },
  {
   "cell_type": "code",
   "execution_count": 2,
   "metadata": {},
   "outputs": [
    {
     "name": "stdout",
     "output_type": "stream",
     "text": [
      "GPU: NVIDIA GeForce GTX 1650 Ti\n"
     ]
    }
   ],
   "source": [
    "device = 'cuda' if torch.cuda.is_available() else 'cpu'\n",
    "if device == 'cuda':\n",
    "    print('GPU:', torch.cuda.get_device_properties(0).name)\n",
    "else:\n",
    "    print(\"CPU\")"
   ]
  },
  {
   "cell_type": "markdown",
   "metadata": {},
   "source": [
    "# Loading dataset"
   ]
  },
  {
   "cell_type": "code",
   "execution_count": 3,
   "metadata": {},
   "outputs": [],
   "source": [
    "with open(\"./tinyShakesphere.txt\", \"r\", encoding=\"utf-8\") as file:\n",
    "    text = file.read()"
   ]
  },
  {
   "cell_type": "markdown",
   "metadata": {},
   "source": [
    "# Creating Vocabulary"
   ]
  },
  {
   "cell_type": "code",
   "execution_count": 4,
   "metadata": {},
   "outputs": [
    {
     "name": "stdout",
     "output_type": "stream",
     "text": [
      "\n",
      " !$&',-.3:;?ABCDEFGHIJKLMNOPQRSTUVWXYZabcdefghijklmnopqrstuvwxyz\n",
      "65\n"
     ]
    }
   ],
   "source": [
    "chars = sorted(set(text))\n",
    "vocab_size = len(chars) \n",
    "print(''.join(chars))\n",
    "print(len(chars))"
   ]
  },
  {
   "cell_type": "code",
   "execution_count": 5,
   "metadata": {},
   "outputs": [],
   "source": [
    "stoi = {ch:i for i,ch in enumerate(chars)}\n",
    "itos = {i:ch for i,ch in enumerate(chars)}\n",
    "encode = lambda s: [stoi[c] for c in s]\n",
    "decode = lambda l: ''.join([itos[i] for i in l])"
   ]
  },
  {
   "cell_type": "markdown",
   "metadata": {},
   "source": [
    "# Encoding Dataset and Train, Test Split"
   ]
  },
  {
   "cell_type": "code",
   "execution_count": 6,
   "metadata": {},
   "outputs": [],
   "source": [
    "encoded_text = torch.tensor(encode(text), dtype=torch.long)"
   ]
  },
  {
   "cell_type": "code",
   "execution_count": 7,
   "metadata": {},
   "outputs": [
    {
     "data": {
      "text/plain": [
       "tensor([18, 47, 56,  ..., 52, 45,  8])"
      ]
     },
     "execution_count": 7,
     "metadata": {},
     "output_type": "execute_result"
    }
   ],
   "source": [
    "encoded_text"
   ]
  },
  {
   "cell_type": "code",
   "execution_count": 8,
   "metadata": {},
   "outputs": [],
   "source": [
    "train_size = 0.9\n",
    "\n",
    "train_data = encoded_text[:int(train_size*len(encoded_text))]\n",
    "val_data = encoded_text[int(train_size*len(encoded_text)):]"
   ]
  },
  {
   "cell_type": "markdown",
   "metadata": {},
   "source": [
    "# Modeling"
   ]
  },
  {
   "cell_type": "code",
   "execution_count": 9,
   "metadata": {},
   "outputs": [],
   "source": [
    "block_size = 8\n",
    "batch_size = 4\n",
    "def get_batch(split):\n",
    "    data = train_data if split == 'train' else val_data\n",
    "    ix = torch.randint(len(data) - block_size, (batch_size,))\n",
    "    x = torch.stack([data[i:i+block_size] for i in ix])\n",
    "    y = torch.stack([data[i+1:i+block_size+1] for i in ix])\n",
    "    return x.to(device), y.to(device)"
   ]
  },
  {
   "cell_type": "code",
   "execution_count": 10,
   "metadata": {},
   "outputs": [],
   "source": [
    "class BigramLanguageModel(nn.Module):\n",
    "    def __init__(self, vocab_size, device='cpu'):\n",
    "        super().__init__()\n",
    "        self.token_embedding_table = nn.Embedding(vocab_size, vocab_size)\n",
    "        self.device = device\n",
    "    \n",
    "    def forward(self, idx, targets=None):\n",
    "        logits = self.token_embedding_table(idx) # (B,T,C) B-> 4(batch_size),T-> 8(block_size),C-> 65(vocab_size)\n",
    "        if targets is None:\n",
    "            loss = None\n",
    "        else: \n",
    "            B, T, C =  logits.shape\n",
    "            logits = logits.view(B*T,C)\n",
    "            targets = targets.view(B*T)\n",
    "            loss = F.cross_entropy(logits, targets)\n",
    "        return logits, loss\n",
    "    \n",
    "    def generate(self, idx, max_new_tokens):\n",
    "        for _ in range(max_new_tokens):\n",
    "            logits, loss = self(idx)\n",
    "            logits = logits[:,-1,:] # (B, C)\n",
    "            probs = F.softmax(logits, dim=1) # (B, C)\n",
    "            idx_next = torch.multinomial(probs,num_samples=1) # (B, 1)\n",
    "            idx = torch.cat((idx, idx_next), dim=1) # (B, T+1)\n",
    "        return idx\n",
    " "
   ]
  },
  {
   "cell_type": "markdown",
   "metadata": {},
   "source": [
    "# Model init and sampling before training "
   ]
  },
  {
   "cell_type": "code",
   "execution_count": 11,
   "metadata": {},
   "outputs": [],
   "source": [
    "bigram = BigramLanguageModel(vocab_size).to(device)"
   ]
  },
  {
   "cell_type": "code",
   "execution_count": 12,
   "metadata": {},
   "outputs": [
    {
     "name": "stdout",
     "output_type": "stream",
     "text": [
      "\n",
      "pYCXxfRkRZd\n",
      "wc'wfNfT;OLlTEeC K\n",
      "jxqPToTb?bXAUG:C-SGJO-33SM:C?YI3a\n",
      "hs:LVXJFhXeNuwqhObxZ.tSVrddXlaSZaNe\n"
     ]
    }
   ],
   "source": [
    "print(decode(bigram.generate(torch.tensor([[0]], dtype=torch.long,device=device), max_new_tokens=100)[0].tolist()))"
   ]
  },
  {
   "cell_type": "markdown",
   "metadata": {},
   "source": [
    "# Optimizer init and training the model"
   ]
  },
  {
   "cell_type": "code",
   "execution_count": 13,
   "metadata": {},
   "outputs": [],
   "source": [
    "optimizer = optim.AdamW(bigram.parameters(), lr=1e-3)"
   ]
  },
  {
   "cell_type": "code",
   "execution_count": 14,
   "metadata": {},
   "outputs": [],
   "source": [
    "@torch.no_grad()\n",
    "def estimate_loss(model, eval_iters):\n",
    "    out = {}\n",
    "    model.eval()\n",
    "    for split in ['train', 'val']:\n",
    "        losses = torch.zeros(eval_iters)\n",
    "        for k in range(eval_iters):\n",
    "            x,y = get_batch(split)\n",
    "            logits, loss = model(x,y)\n",
    "            losses[k] = loss.item()\n",
    "        out[split] = losses.mean()\n",
    "    model.train()\n",
    "    return out"
   ]
  },
  {
   "cell_type": "code",
   "execution_count": 15,
   "metadata": {},
   "outputs": [],
   "source": [
    "train_loss = []\n",
    "val_loss = []\n",
    "step = []"
   ]
  },
  {
   "cell_type": "code",
   "execution_count": 19,
   "metadata": {},
   "outputs": [
    {
     "name": "stdout",
     "output_type": "stream",
     "text": [
      "step 0: train loss 2.6351, test loss 2.4793\n",
      "step 100: train loss 2.6360, test loss 2.4731\n",
      "step 200: train loss 2.6354, test loss 2.4747\n",
      "step 300: train loss 2.6343, test loss 2.4549\n",
      "step 400: train loss 2.6199, test loss 2.4820\n",
      "step 500: train loss 2.6276, test loss 2.4482\n",
      "step 600: train loss 2.6217, test loss 2.4637\n",
      "step 700: train loss 2.6187, test loss 2.4554\n",
      "step 800: train loss 2.6347, test loss 2.4451\n",
      "step 900: train loss 2.6190, test loss 2.4501\n",
      "step 1000: train loss 2.6173, test loss 2.4397\n",
      "step 1100: train loss 2.6143, test loss 2.4441\n",
      "step 1200: train loss 2.5909, test loss 2.4151\n",
      "step 1300: train loss 2.6145, test loss 2.4420\n",
      "step 1400: train loss 2.6009, test loss 2.4267\n",
      "step 1500: train loss 2.6253, test loss 2.4188\n",
      "step 1600: train loss 2.5982, test loss 2.4224\n",
      "step 1700: train loss 2.5989, test loss 2.4177\n",
      "step 1800: train loss 2.5999, test loss 2.4132\n",
      "step 1900: train loss 2.6233, test loss 2.4132\n",
      "step 2000: train loss 2.6022, test loss 2.4130\n",
      "step 2100: train loss 2.6084, test loss 2.4192\n",
      "step 2200: train loss 2.6013, test loss 2.4017\n",
      "step 2300: train loss 2.5828, test loss 2.4117\n",
      "step 2400: train loss 2.5983, test loss 2.4020\n",
      "step 2500: train loss 2.5927, test loss 2.4168\n",
      "step 2600: train loss 2.6014, test loss 2.4039\n",
      "step 2700: train loss 2.5857, test loss 2.3890\n",
      "step 2800: train loss 2.6096, test loss 2.4099\n",
      "step 2900: train loss 2.6065, test loss 2.3881\n",
      "step 3000: train loss 2.5890, test loss 2.3969\n",
      "step 3100: train loss 2.5986, test loss 2.3942\n",
      "step 3200: train loss 2.6005, test loss 2.3954\n",
      "step 3300: train loss 2.6041, test loss 2.3918\n",
      "step 3400: train loss 2.5904, test loss 2.4056\n",
      "step 3500: train loss 2.6006, test loss 2.3863\n",
      "step 3600: train loss 2.6001, test loss 2.4037\n",
      "step 3700: train loss 2.5914, test loss 2.3957\n",
      "step 3800: train loss 2.5979, test loss 2.3934\n",
      "step 3900: train loss 2.5862, test loss 2.3989\n",
      "step 4000: train loss 2.6020, test loss 2.4035\n",
      "step 4100: train loss 2.5930, test loss 2.3880\n",
      "step 4200: train loss 2.5784, test loss 2.3863\n",
      "step 4300: train loss 2.5943, test loss 2.3854\n",
      "step 4400: train loss 2.5800, test loss 2.3927\n",
      "step 4500: train loss 2.6056, test loss 2.3876\n",
      "step 4600: train loss 2.5935, test loss 2.3821\n",
      "step 4700: train loss 2.6040, test loss 2.3902\n",
      "step 4800: train loss 2.6122, test loss 2.3836\n",
      "step 4900: train loss 2.6270, test loss 2.3846\n",
      "2.4172585010528564\n"
     ]
    }
   ],
   "source": [
    "batch_size = 32\n",
    "eval_iters = 100\n",
    "for steps in range(5000):\n",
    "    if steps % eval_iters == 0:\n",
    "        losses = estimate_loss(bigram, eval_iters)\n",
    "        print(f'step {steps}: train loss {losses['train']:.4f}, test loss {losses['val']:.4f}')\n",
    "        train_loss.append(losses['train'])\n",
    "        val_loss.append(losses['val'])\n",
    "        step.append(step[-1] + eval_iters if step else eval_iters)\n",
    "    xb, yb = get_batch(train_data)\n",
    "    logits, loss = bigram(xb, yb)\n",
    "    optimizer.zero_grad(set_to_none=True)\n",
    "    loss.backward()\n",
    "    optimizer.step()\n",
    "print(loss.item())"
   ]
  },
  {
   "cell_type": "code",
   "execution_count": 20,
   "metadata": {},
   "outputs": [
    {
     "data": {
      "image/png": "[encoded data removed]",
      "text/plain": [
       "<Figure size 640x480 with 1 Axes>"
      ]
     },
     "metadata": {},
     "output_type": "display_data"
    }
   ],
   "source": [
    "plt.plot(step, train_loss, label='Train Loss')\n",
    "plt.plot(step, val_loss, label='Test Loss')\n",
    "plt.xlabel('Steps')\n",
    "plt.ylabel('Loss')\n",
    "plt.legend()\n",
    "plt.show()"
   ]
  },
  {
   "cell_type": "markdown",
   "metadata": {},
   "source": [
    "# Sampling from the trained model"
   ]
  },
  {
   "cell_type": "code",
   "execution_count": 21,
   "metadata": {},
   "outputs": [
    {
     "name": "stdout",
     "output_type": "stream",
     "text": [
      "\n",
      "O:\n",
      "\n",
      "STworinggin ie-ve INDEThiWho aste ndichea ber br\n",
      "Hed hy senInirmy a theint co Kas, the an Pinke imyol menatoulinor, teire biwimapise.\n",
      "\n",
      "\n",
      "we e wo IOSis;\n",
      "ST d tho y'silHI whertaperulllalou! trencolirconou jbea d f t wothrmu th?O:\n",
      "TARUCHIORUCHI it il c; d j.\n",
      "Whtir Whth'dlll my ay meras be:\n",
      "Hang o ndonze t t tot nom theabof s ho anga thitan nu tonm THIERTRe y, d.\n",
      "Pl!\n",
      "HIO:\n",
      "Wo, IEThens arr wholers e\n",
      "Thins; s ookesthouk bl,-der, s, es s;\n",
      "\n",
      "IO:\n",
      "\n",
      "TENak!--\n",
      "STRUCH:\n",
      "OND.\n",
      "Thateee wheresed we hrist ar\n",
      "INCELONSTHIO:\n",
      "PERO:\n",
      "PTLONTRUC&fo thin.\n",
      "\n",
      "\n",
      "'d! Wheseson rishe. ar?\n",
      "A:\n",
      "GRO:IA:\n",
      "Whthathe couf mhir, byoass o'PEMI'thisese hawayol brnd end,\n",
      "My w flouth sth t ar h ccr:\n",
      "Wive! t, o amongh,\n",
      "Poul? tald weat r theat mef fowalo' I o!\n",
      "Aw'd wer ho'liower lifu he punilf gur ou t theeake; Sk:\n",
      "Anow.\n",
      "Whur woury pmouthak nd avenseng,\n",
      "BISibrtus nce stho, JWhesh pat ing:\n",
      "Ingio shown'ed.\n",
      "Whathee ss me ote h henide a anair, I my abukl t,\n",
      "A:\n",
      "\n",
      "LIAThy ayceve cotinorir.\n",
      "\n",
      "SGry, higo m fasstou s, aubis t htereerd\n",
      "Bir cther d e\n"
     ]
    }
   ],
   "source": [
    "print(decode(bigram.generate(torch.tensor([[0]], dtype=torch.long,device=device), max_new_tokens=1000)[0].tolist()))"
   ]
  }
 ],
 "metadata": {
  "kernelspec": {
   "display_name": "Python 3",
   "language": "python",
   "name": "python3"
  },
  "language_info": {
   "codemirror_mode": {
    "name": "ipython",
    "version": 3
   },
   "file_extension": ".py",
   "mimetype": "text/x-python",
   "name": "python",
   "nbconvert_exporter": "python",
   "pygments_lexer": "ipython3",
   "version": "3.12.2"
  }
 },
 "nbformat": 4,
 "nbformat_minor": 2
}
